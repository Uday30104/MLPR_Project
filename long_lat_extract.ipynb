{
 "cells": [
  {
   "cell_type": "code",
   "execution_count": null,
   "id": "ce651766",
   "metadata": {},
   "outputs": [],
   "source": [
    "import pandas as pd\n",
    "from geopy.geocoders import Nominatim\n",
    "from geopy.extra.rate_limiter import RateLimiter\n",
    "from tqdm import tqdm\n",
    "\n",
    "# Load the weather data\n",
    "weather_df = pd.read_csv('hs/Heavy_Snow.csv')\n",
    "\n",
    "# Normalize the relevant columns\n",
    "weather_df['county_clean'] = weather_df['CZ_NAME'].str.strip().str.lower()\n",
    "weather_df['state_clean'] = weather_df['STATE'].str.strip().str.lower()\n",
    "\n",
    "# Get distinct county-state pairs\n",
    "unique_locations = weather_df[['county_clean', 'state_clean']].drop_duplicates()\n",
    "total_counties = unique_locations.shape[0]\n",
    "\n",
    "# Save the distinct county-state combination to CSV\n",
    "unique_locations.to_csv('distinct_county_state_combinations.csv', index=False)\n",
    "\n",
    "# Print unique county-state pairs before geocoding\n",
    "print(f\"Total distinct county-state pairs to geocode: {total_counties}\")\n",
    "print(\"\\nUnique county-state pairs:\")\n",
    "print(unique_locations)\n",
    "\n",
    "# Initialize geolocator\n",
    "geolocator = Nominatim(user_agent=\"county-geocoder\")\n",
    "geocode = RateLimiter(geolocator.geocode, min_delay_seconds=1)  # Respect API limits\n",
    "\n",
    "# Function to get coordinates\n",
    "def get_lat_lng(row):\n",
    "    location = geocode(f\"{row['county_clean']} County, {row['state_clean']}, USA\")\n",
    "    if location:\n",
    "        return pd.Series([location.latitude, location.longitude])\n",
    "    else:\n",
    "        return pd.Series([None, None])\n",
    "\n",
    "# Apply geocoding with progress bar\n",
    "tqdm.pandas(desc=\"Geocoding counties\")\n",
    "unique_locations[['lat', 'lng']] = unique_locations.progress_apply(get_lat_lng, axis=1)\n",
    "\n",
    "# Save distinct counties with coordinates\n",
    "unique_locations.to_csv('distinct_counties_with_coordinates.csv', index=False)\n",
    "\n",
    "# Merge back with original data\n",
    "weather_df = weather_df.merge(unique_locations, on=['county_clean', 'state_clean'], how='left')\n",
    "\n",
    "# Save merged output\n",
    "weather_df.to_csv('heavy_snow_with_coordinates_geopy.csv', index=False)\n",
    "\n",
    "print(\"\\n✅ Geocoding completed and saved.\")"
   ]
  }
 ],
 "metadata": {
  "kernelspec": {
   "display_name": "Python 3 (ipykernel)",
   "language": "python",
   "name": "python3"
  },
  "language_info": {
   "codemirror_mode": {
    "name": "ipython",
    "version": 3
   },
   "file_extension": ".py",
   "mimetype": "text/x-python",
   "name": "python",
   "nbconvert_exporter": "python",
   "pygments_lexer": "ipython3",
   "version": "3.11.5"
  }
 },
 "nbformat": 4,
 "nbformat_minor": 5
}
